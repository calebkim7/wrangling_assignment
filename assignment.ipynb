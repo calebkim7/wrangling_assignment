{
 "cells": [
  {
   "cell_type": "markdown",
   "id": "13ad028b-72b7-43ed-aa78-96fd4e518040",
   "metadata": {
    "id": "13ad028b-72b7-43ed-aa78-96fd4e518040"
   },
   "source": [
    "# Assignment: Data Wrangling\n",
    "### `! git clone https://github.com/ds3001f25/wrangling_assignment.git`\n",
    "### Do Q1 and Q2\n",
    "### Reading material: `tidy_data.pdf`"
   ]
  },
  {
   "cell_type": "markdown",
   "id": "da879ea7-8aac-48a3-b6c2-daea56d2e072",
   "metadata": {
    "id": "da879ea7-8aac-48a3-b6c2-daea56d2e072"
   },
   "source": [
    "**Q1.** This question provides some practice cleaning variables which have common problems.\n",
    "1. Numeric variable: For `./data/airbnb_hw.csv`, clean the `Price` variable as well as you can, and explain the choices you make. How many missing values do you end up with? (Hint: What happens to the formatting when a price goes over 999 dollars, say from 675 to 1,112?)\n",
    "2. Categorical variable: For the Minnesota police use of for data, `./data/mn_police_use_of_force.csv`, clean the `subject_injury` variable, handling the NA's; this gives a value `Yes` when a person was injured by police, and `No` when no injury occurred. What proportion of the values are missing? Is this a concern? Cross-tabulate your cleaned `subject_injury` variable with the `force_type` variable. Are there any patterns regarding when the data are missing? \n",
    "3. Dummy variable: For the pretrial data covered in the lecture `./data/justice_data.parquet`, clean the `WhetherDefendantWasReleasedPretrial` variable as well as you can, and, in particular, replace missing values with `np.nan`.\n",
    "4. Missing values, not at random: For the pretrial data covered in the lecture, clean the `ImposedSentenceAllChargeInContactEvent` variable as well as you can, and explain the choices you make. (Hint: Look at the `SentenceTypeAllChargesAtConvictionInContactEvent` variable.)"
   ]
  },
  {
   "cell_type": "code",
   "execution_count": 33,
   "id": "79dfccd8",
   "metadata": {},
   "outputs": [
    {
     "name": "stderr",
     "output_type": "stream",
     "text": [
      "14536.83s - pydevd: Sending message related to process being replaced timed-out after 5 seconds\n"
     ]
    },
    {
     "name": "stdout",
     "output_type": "stream",
     "text": [
      "Requirement already satisfied: numpy in ./.venv/lib/python3.13/site-packages (2.3.2)\n",
      "Requirement already satisfied: pandas in ./.venv/lib/python3.13/site-packages (2.3.2)\n",
      "Requirement already satisfied: python-dateutil>=2.8.2 in ./.venv/lib/python3.13/site-packages (from pandas) (2.9.0.post0)\n",
      "Requirement already satisfied: pytz>=2020.1 in ./.venv/lib/python3.13/site-packages (from pandas) (2025.2)\n",
      "Requirement already satisfied: tzdata>=2022.7 in ./.venv/lib/python3.13/site-packages (from pandas) (2025.2)\n",
      "Requirement already satisfied: six>=1.5 in ./.venv/lib/python3.13/site-packages (from python-dateutil>=2.8.2->pandas) (1.17.0)\n",
      "\n",
      "\u001b[1m[\u001b[0m\u001b[34;49mnotice\u001b[0m\u001b[1;39;49m]\u001b[0m\u001b[39;49m A new release of pip is available: \u001b[0m\u001b[31;49m24.3.1\u001b[0m\u001b[39;49m -> \u001b[0m\u001b[32;49m25.2\u001b[0m\n",
      "\u001b[1m[\u001b[0m\u001b[34;49mnotice\u001b[0m\u001b[1;39;49m]\u001b[0m\u001b[39;49m To update, run: \u001b[0m\u001b[32;49mpip install --upgrade pip\u001b[0m\n"
     ]
    }
   ],
   "source": [
    "!pip install numpy pandas"
   ]
  },
  {
   "cell_type": "markdown",
   "id": "280692ce",
   "metadata": {},
   "source": [
    "1. Numeric variable: For `./data/airbnb_hw.csv`, clean the `Price` variable as well as you can, and explain the choices you make. How many missing values do you end up with? (Hint: What happens to the formatting when a price goes over 999 dollars, say from 675 to 1,112?)"
   ]
  },
  {
   "cell_type": "code",
   "execution_count": 34,
   "id": "9d412a8d",
   "metadata": {},
   "outputs": [
    {
     "name": "stdout",
     "output_type": "stream",
     "text": [
      "Number of missing values after cleaning: 0\n"
     ]
    }
   ],
   "source": [
    "import numpy as np\n",
    "import pandas as pd\n",
    "\n",
    "# Reading the CSV file\n",
    "df = pd.read_csv('/Users/calebkim7/wrangling_assignment/data/airbnb_hw.csv')\n",
    "\n",
    "# Cleaning the Price variable\n",
    "df['Price_cleaned'] = df['Price'].str.replace('$', '', regex=False)\n",
    "df['Price_cleaned'] = df['Price_cleaned'].str.replace(',', '', regex=False)\n",
    "df['Price_cleaned'] = pd.to_numeric(df['Price_cleaned'], errors='coerce')\n",
    "\n",
    "# Counting the missing values\n",
    "missing_values = df['Price_cleaned'].isna().sum()\n",
    "\n",
    "print(f\"Number of missing values after cleaning: {missing_values}\")"
   ]
  },
  {
   "cell_type": "markdown",
   "id": "b31524b0",
   "metadata": {},
   "source": [
    "1. In order to clean the Price variable we first look at the values. We can see that the numbers are actually strings. So, we first drop the commas for numbers that are over 999. After that, we can convert the strings to integers. We end of with no missing or null values."
   ]
  },
  {
   "cell_type": "markdown",
   "id": "7275e3a6",
   "metadata": {},
   "source": [
    "2. Categorical variable: For the Minnesota police use of for data, `./data/mn_police_use_of_force.csv`, clean the `subject_injury` variable, handling the NA's; this gives a value `Yes` when a person was injured by police, and `No` when no injury occurred. What proportion of the values are missing? Is this a concern? Cross-tabulate your cleaned `subject_injury` variable with the `force_type` variable. Are there any patterns regarding when the data are missing?"
   ]
  },
  {
   "cell_type": "code",
   "execution_count": 35,
   "id": "e0abc80e",
   "metadata": {},
   "outputs": [
    {
     "name": "stdout",
     "output_type": "stream",
     "text": [
      "Proportion of the missing values in the subject_injury variable: 76.19%\n",
      "\n",
      "Cross-tabulation of the subject_injury variable and the force_type variable in count:\n",
      "subject_injury_clean         Missing    No   Yes\n",
      "force_type                                      \n",
      "Baton                              2     0     2\n",
      "Bodily Force                    7051  1093  1286\n",
      "Chemical Irritant               1421   131    41\n",
      "Firearm                            0     2     0\n",
      "Gun Point Display                 27    33    44\n",
      "Improvised Weapon                 74    34    40\n",
      "Less Lethal                       87     0     0\n",
      "Less Lethal Projectile             0     1     2\n",
      "Maximal Restraint Technique      170     0     0\n",
      "Police K9 Bite                    31     2    44\n",
      "Taser                            985   150   172\n",
      "\n",
      "Cross-tabulation of the subject_injury variable and the force_type variable in percentage:\n",
      "subject_injury_clean            Missing          No        Yes\n",
      "force_type                                                    \n",
      "Baton                         50.000000    0.000000  50.000000\n",
      "Bodily Force                  74.772004   11.590668  13.637328\n",
      "Chemical Irritant             89.202762    8.223478   2.573760\n",
      "Firearm                        0.000000  100.000000   0.000000\n",
      "Gun Point Display             25.961538   31.730769  42.307692\n",
      "Improvised Weapon             50.000000   22.972973  27.027027\n",
      "Less Lethal                  100.000000    0.000000   0.000000\n",
      "Less Lethal Projectile         0.000000   33.333333  66.666667\n",
      "Maximal Restraint Technique  100.000000    0.000000   0.000000\n",
      "Police K9 Bite                40.259740    2.597403  57.142857\n",
      "Taser                         75.363428   11.476664  13.159908\n"
     ]
    }
   ],
   "source": [
    "import numpy as np\n",
    "import pandas as pd\n",
    "\n",
    "# Reading the CSV file\n",
    "df = pd.read_csv('/Users/calebkim7/wrangling_assignment/data/mn_police_use_of_force.csv')\n",
    "\n",
    "# Cleaning the subject_injury variable\n",
    "df['subject_injury_clean'] = df['subject_injury'].fillna('Missing')\n",
    "df['subject_injury_clean'] = df['subject_injury_clean'].replace({'Y': 'Yes', 'N': 'No'})\n",
    "\n",
    "# Calculating the proportion of the missing values\n",
    "missing_proportion = (df['subject_injury'].isna().sum() / len(df)) * 100\n",
    "\n",
    "print(f\"Proportion of the missing values in the subject_injury variable: {missing_proportion:.2f}%\")\n",
    "\n",
    "# Calculating the raw counts\n",
    "cross_tab_counts = pd.crosstab(df['force_type'], df['subject_injury_clean'])\n",
    "\n",
    "print(\"\\nCross-tabulation of the subject_injury variable and the force_type variable in count:\")\n",
    "print(cross_tab_counts)\n",
    "\n",
    "# Cross-tabulating the cleaned subject_injury variable with the force_type variable\n",
    "cross_tab = pd.crosstab(df['force_type'], df['subject_injury_clean'], normalize='index')\n",
    "\n",
    "print(\"\\nCross-tabulation of the subject_injury variable and the force_type variable in percentage:\")\n",
    "print(100 * cross_tab)"
   ]
  },
  {
   "cell_type": "markdown",
   "id": "e5fdf8e5",
   "metadata": {},
   "source": [
    "The actual quality of the data can be questioned. This is because there should be a concern due to the proportion of missing values in teh subject injury variable being high at 76.19%. A possible cause could be due to a mistake during data collection. The most frequently utilized type of force can be observed to be Bodily Force. Another pattern is that some forces have very little data like Baton, Firearm, and Less Lethal Projectile. Other forces are complteely missing including Less Lethal and Maximal Retraint Technique. In conclusion, the missing data makes the subject_injury column questionable as it could be unreliable data."
   ]
  },
  {
   "cell_type": "markdown",
   "id": "7e48ffd0",
   "metadata": {},
   "source": [
    "3. Dummy variable: For the pretrial data covered in the lecture `./data/justice_data.parquet`, clean the `WhetherDefendantWasReleasedPretrial` variable as well as you can, and, in particular, replace missing values with `np.nan`."
   ]
  },
  {
   "cell_type": "code",
   "execution_count": 36,
   "id": "78cbcefc",
   "metadata": {},
   "outputs": [
    {
     "name": "stderr",
     "output_type": "stream",
     "text": [
      "14542.94s - pydevd: Sending message related to process being replaced timed-out after 5 seconds\n"
     ]
    },
    {
     "name": "stdout",
     "output_type": "stream",
     "text": [
      "Requirement already satisfied: pyarrow in ./.venv/lib/python3.13/site-packages (21.0.0)\n",
      "\n",
      "\u001b[1m[\u001b[0m\u001b[34;49mnotice\u001b[0m\u001b[1;39;49m]\u001b[0m\u001b[39;49m A new release of pip is available: \u001b[0m\u001b[31;49m24.3.1\u001b[0m\u001b[39;49m -> \u001b[0m\u001b[32;49m25.2\u001b[0m\n",
      "\u001b[1m[\u001b[0m\u001b[34;49mnotice\u001b[0m\u001b[1;39;49m]\u001b[0m\u001b[39;49m To update, run: \u001b[0m\u001b[32;49mpip install --upgrade pip\u001b[0m\n"
     ]
    },
    {
     "name": "stderr",
     "output_type": "stream",
     "text": [
      "14548.77s - pydevd: Sending message related to process being replaced timed-out after 5 seconds\n"
     ]
    },
    {
     "name": "stdout",
     "output_type": "stream",
     "text": [
      "Requirement already satisfied: fastparquet in ./.venv/lib/python3.13/site-packages (2024.11.0)\n",
      "Requirement already satisfied: pandas>=1.5.0 in ./.venv/lib/python3.13/site-packages (from fastparquet) (2.3.2)\n",
      "Requirement already satisfied: numpy in ./.venv/lib/python3.13/site-packages (from fastparquet) (2.3.2)\n",
      "Requirement already satisfied: cramjam>=2.3 in ./.venv/lib/python3.13/site-packages (from fastparquet) (2.11.0)\n",
      "Requirement already satisfied: fsspec in ./.venv/lib/python3.13/site-packages (from fastparquet) (2025.7.0)\n",
      "Requirement already satisfied: packaging in ./.venv/lib/python3.13/site-packages (from fastparquet) (25.0)\n",
      "Requirement already satisfied: python-dateutil>=2.8.2 in ./.venv/lib/python3.13/site-packages (from pandas>=1.5.0->fastparquet) (2.9.0.post0)\n",
      "Requirement already satisfied: pytz>=2020.1 in ./.venv/lib/python3.13/site-packages (from pandas>=1.5.0->fastparquet) (2025.2)\n",
      "Requirement already satisfied: tzdata>=2022.7 in ./.venv/lib/python3.13/site-packages (from pandas>=1.5.0->fastparquet) (2025.2)\n",
      "Requirement already satisfied: six>=1.5 in ./.venv/lib/python3.13/site-packages (from python-dateutil>=2.8.2->pandas>=1.5.0->fastparquet) (1.17.0)\n",
      "\n",
      "\u001b[1m[\u001b[0m\u001b[34;49mnotice\u001b[0m\u001b[1;39;49m]\u001b[0m\u001b[39;49m A new release of pip is available: \u001b[0m\u001b[31;49m24.3.1\u001b[0m\u001b[39;49m -> \u001b[0m\u001b[32;49m25.2\u001b[0m\n",
      "\u001b[1m[\u001b[0m\u001b[34;49mnotice\u001b[0m\u001b[1;39;49m]\u001b[0m\u001b[39;49m To update, run: \u001b[0m\u001b[32;49mpip install --upgrade pip\u001b[0m\n"
     ]
    }
   ],
   "source": [
    "!pip install pyarrow\n",
    "!pip install fastparquet"
   ]
  },
  {
   "cell_type": "code",
   "execution_count": 37,
   "id": "a51f8204",
   "metadata": {},
   "outputs": [
    {
     "name": "stdout",
     "output_type": "stream",
     "text": [
      "WhetherDefendantWasReleasedPretrial\n",
      "1.0    19154\n",
      "0.0     3801\n",
      "NaN       31\n",
      "Name: count, dtype: int64\n"
     ]
    }
   ],
   "source": [
    "# Reading the data\n",
    "df = pd.read_parquet('/Users/calebkim7/wrangling_assignment/data/justice_data.parquet', \n",
    "                     engine='fastparquet')\n",
    "\n",
    "# Converting to numeric and coercing non-numeric values to NaN\n",
    "df['WhetherDefendantWasReleasedPretrial'] = pd.to_numeric(df['WhetherDefendantWasReleasedPretrial'], errors='coerce')\n",
    "\n",
    "# Replacing NaN values with np.nan\n",
    "df['WhetherDefendantWasReleasedPretrial'] = df['WhetherDefendantWasReleasedPretrial'].replace({np.nan: np.nan})\n",
    "\n",
    "# Keeping 0, 1, and np.nan values\n",
    "df['WhetherDefendantWasReleasedPretrial'] = df['WhetherDefendantWasReleasedPretrial'].where(df['WhetherDefendantWasReleasedPretrial'].isin([0, 1]), np.nan)\n",
    "\n",
    "print(df['WhetherDefendantWasReleasedPretrial'].value_counts(dropna=False))"
   ]
  },
  {
   "cell_type": "markdown",
   "id": "e116907b",
   "metadata": {},
   "source": [
    "4. Missing values, not at random: For the pretrial data covered in the lecture, clean the `ImposedSentenceAllChargeInContactEvent` variable as well as you can, and explain the choices you make. (Hint: Look at the `SentenceTypeAllChargesAtConvictionInContactEvent` variable.)"
   ]
  },
  {
   "cell_type": "code",
   "execution_count": 38,
   "id": "395382a5",
   "metadata": {},
   "outputs": [],
   "source": [
    "# Reading the data\n",
    "df = pd.read_parquet('/Users/calebkim7/wrangling_assignment/data/justice_data.parquet',\n",
    "                     engine='fastparquet')\n",
    "\n",
    "# Converting to numeric and coercing errors to NaN\n",
    "df['ImposedSentenceAllChargeInContactEvent'] = pd.to_numeric(df['ImposedSentenceAllChargeInContactEvent'], errors='coerce')\n",
    "\n",
    "# Replacing 0 with NaN where the SentenceType is not Time to serve\n",
    "mask = (df['SentenceTypeAllChargesAtConvictionInContactEvent'] != 'Time to serve') & (df['ImposedSentenceAllChargeInContactEvent'] == 0)\n",
    "df.loc[mask, 'ImposedSentenceAllChargeInContactEvent'] = np.nan\n",
    "\n",
    "# Replacing the negative values with NaN\n",
    "df['ImposedSentenceAllChargeInContactEvent'] = df['ImposedSentenceAllChargeInContactEvent'].where(df['ImposedSentenceAllChargeInContactEvent'] >= 0, np.nan)\n",
    "\n",
    "# Setting a cap for unreasonably high values at 40000 days\n",
    "df['ImposedSentenceAllChargeInContactEvent'] = df['ImposedSentenceAllChargeInContactEvent'].clip(upper=40000)"
   ]
  },
  {
   "cell_type": "markdown",
   "id": "48855deb",
   "metadata": {},
   "source": [
    "4. I converted the values from strings to numerics. Then I replaced 0 with NaN. This is because a sentence cannot be 0 days. After that, I replaced the negative values also with NaN as negative values do not make sense either. Finally, I set a cap of 40000 days because it is unrealistic and unreasonable for the values to be that high."
   ]
  },
  {
   "cell_type": "markdown",
   "id": "5a60a44e",
   "metadata": {},
   "source": [
    "**Q2.** Go to https://sharkattackfile.net/ and download their dataset on shark attacks (Hint: `GSAF5.xls`).\n",
    "\n",
    "1. Open the shark attack file using Pandas. It is probably not a csv file, so `read_csv` won't work.\n",
    "2. Drop any columns that do not contain data.\n",
    "3. Clean the year variable. Describe the range of values you see. Filter the rows to focus on attacks since 1940. Are attacks increasing, decreasing, or remaining constant over time?\n",
    "4. Clean the Age variable and make a histogram of the ages of the victims.\n",
    "5. What proportion of victims are male?\n",
    "6. Clean the `Type` variable so it only takes three values: Provoked and Unprovoked and Unknown. What proportion of attacks are unprovoked?\n",
    "7. Clean the `Fatal Y/N` variable so it only takes three values: Y, N, and Unknown.\n",
    "8. Are sharks more likely to launch unprovoked attacks on men or women? Is the attack more or less likely to be fatal when the attack is provoked or unprovoked? Is it more or less likely to be fatal when the victim is male or female? How do you feel about sharks?\n",
    "9. What proportion of attacks appear to be by white sharks? (Hint: `str.split()` makes a vector of text values into a list of lists, split by spaces.)"
   ]
  },
  {
   "cell_type": "code",
   "execution_count": 40,
   "id": "5d9928f0",
   "metadata": {},
   "outputs": [
    {
     "name": "stderr",
     "output_type": "stream",
     "text": [
      "14748.52s - pydevd: Sending message related to process being replaced timed-out after 5 seconds\n"
     ]
    },
    {
     "name": "stdout",
     "output_type": "stream",
     "text": [
      "Collecting xlrd==2.0.1\n",
      "  Downloading xlrd-2.0.1-py2.py3-none-any.whl.metadata (3.4 kB)\n",
      "Downloading xlrd-2.0.1-py2.py3-none-any.whl (96 kB)\n",
      "Installing collected packages: xlrd\n",
      "Successfully installed xlrd-2.0.1\n",
      "\n",
      "\u001b[1m[\u001b[0m\u001b[34;49mnotice\u001b[0m\u001b[1;39;49m]\u001b[0m\u001b[39;49m A new release of pip is available: \u001b[0m\u001b[31;49m24.3.1\u001b[0m\u001b[39;49m -> \u001b[0m\u001b[32;49m25.2\u001b[0m\n",
      "\u001b[1m[\u001b[0m\u001b[34;49mnotice\u001b[0m\u001b[1;39;49m]\u001b[0m\u001b[39;49m To update, run: \u001b[0m\u001b[32;49mpip install --upgrade pip\u001b[0m\n"
     ]
    }
   ],
   "source": [
    "!pip install xlrd==2.0.1"
   ]
  },
  {
   "cell_type": "markdown",
   "id": "845b6bf8",
   "metadata": {},
   "source": [
    "1. Open the shark attack file using Pandas. It is probably not a csv file, so `read_csv` won't work."
   ]
  },
  {
   "cell_type": "code",
   "execution_count": 41,
   "id": "08bcebf0",
   "metadata": {},
   "outputs": [],
   "source": [
    "df = pd.read_excel('/Users/calebkim7/wrangling_assignment/data/GSAF5.xls')"
   ]
  },
  {
   "cell_type": "markdown",
   "id": "6bee4f38",
   "metadata": {},
   "source": [
    "2. Drop any columns that do not contain data."
   ]
  },
  {
   "cell_type": "code",
   "execution_count": 42,
   "id": "b09fcb8f",
   "metadata": {},
   "outputs": [
    {
     "name": "stdout",
     "output_type": "stream",
     "text": [
      "Index(['Date', 'Year', 'Type', 'Country', 'State', 'Location', 'Activity',\n",
      "       'Name', 'Sex', 'Age', 'Injury', 'Fatal Y/N', 'Time', 'Species ',\n",
      "       'Source', 'pdf', 'href formula', 'href', 'Case Number', 'Case Number.1',\n",
      "       'original order'],\n",
      "      dtype='object')\n"
     ]
    }
   ],
   "source": [
    "df = df.drop(columns=[col for col in df.columns if col.startswith('Unnamed:')])\n",
    "\n",
    "print(df.columns)"
   ]
  },
  {
   "cell_type": "markdown",
   "id": "ec805c78",
   "metadata": {},
   "source": [
    "3. Clean the year variable. Describe the range of values you see. Filter the rows to focus on attacks since 1940. Are attacks increasing, decreasing, or remaining constant over time?"
   ]
  },
  {
   "cell_type": "code",
   "execution_count": 53,
   "id": "c8c2d37c",
   "metadata": {},
   "outputs": [
    {
     "name": "stdout",
     "output_type": "stream",
     "text": [
      "Year\n",
      "1940.0     24\n",
      "1941.0     27\n",
      "1942.0     41\n",
      "1943.0     28\n",
      "1944.0     31\n",
      "1945.0     16\n",
      "1946.0     26\n",
      "1947.0     30\n",
      "1948.0     29\n",
      "1949.0     31\n",
      "1950.0     43\n",
      "1951.0     32\n",
      "1952.0     29\n",
      "1953.0     36\n",
      "1954.0     45\n",
      "1955.0     43\n",
      "1956.0     51\n",
      "1957.0     41\n",
      "1958.0     54\n",
      "1959.0     93\n",
      "1960.0     93\n",
      "1961.0     78\n",
      "1962.0     86\n",
      "1963.0     61\n",
      "1964.0     66\n",
      "1965.0     51\n",
      "1966.0     58\n",
      "1967.0     48\n",
      "1968.0     47\n",
      "1969.0     30\n",
      "1970.0     42\n",
      "1971.0     30\n",
      "1972.0     36\n",
      "1973.0     27\n",
      "1974.0     39\n",
      "1975.0     49\n",
      "1976.0     39\n",
      "1977.0     26\n",
      "1978.0     26\n",
      "1979.0     25\n",
      "1980.0     36\n",
      "1981.0     49\n",
      "1982.0     42\n",
      "1983.0     50\n",
      "1984.0     41\n",
      "1985.0     37\n",
      "1986.0     39\n",
      "1987.0     35\n",
      "1988.0     56\n",
      "1989.0     53\n",
      "1990.0     39\n",
      "1991.0     39\n",
      "1992.0     56\n",
      "1993.0     56\n",
      "1994.0     57\n",
      "1995.0     76\n",
      "1996.0     61\n",
      "1997.0     57\n",
      "1998.0     65\n",
      "1999.0     66\n",
      "2000.0     97\n",
      "2001.0     92\n",
      "2002.0     88\n",
      "2003.0     92\n",
      "2004.0     92\n",
      "2005.0    103\n",
      "2006.0    103\n",
      "2007.0    113\n",
      "2008.0    122\n",
      "2009.0    120\n",
      "2010.0    101\n",
      "2011.0    128\n",
      "2012.0    117\n",
      "2013.0    122\n",
      "2014.0    126\n",
      "2015.0    143\n",
      "2016.0    133\n",
      "2017.0    141\n",
      "2018.0    124\n",
      "2019.0    114\n",
      "2020.0    101\n",
      "2021.0    110\n",
      "2022.0     98\n",
      "2023.0    109\n",
      "2024.0     52\n",
      "2025.0     48\n",
      "2026.0      1\n",
      "Name: count, dtype: int64\n"
     ]
    }
   ],
   "source": [
    "# Converting Year to numeric and coercing the errors to NaN\n",
    "df['Year'] = pd.to_numeric(df['Year'], errors='coerce')\n",
    "\n",
    "# Filtering the rows since 1940\n",
    "df_filtered = df[df['Year'] >= 1940]\n",
    "\n",
    "# Obtaining the count for each year\n",
    "year_counts = df_filtered['Year'].value_counts().sort_index()\n",
    "\n",
    "pd.set_option(\"display.max_rows\", None) \n",
    "print(year_counts)"
   ]
  },
  {
   "cell_type": "markdown",
   "id": "3bb20bb4",
   "metadata": {},
   "source": [
    "3. The range of values look to be overall increasing as time passes. The range of values seems to be between 1 and 143. "
   ]
  },
  {
   "cell_type": "code",
   "execution_count": 45,
   "id": "d5d58708",
   "metadata": {},
   "outputs": [
    {
     "name": "stderr",
     "output_type": "stream",
     "text": [
      "15076.68s - pydevd: Sending message related to process being replaced timed-out after 5 seconds\n"
     ]
    },
    {
     "name": "stdout",
     "output_type": "stream",
     "text": [
      "Collecting matplotlib\n",
      "  Downloading matplotlib-3.10.6-cp313-cp313-macosx_11_0_arm64.whl.metadata (11 kB)\n",
      "Collecting contourpy>=1.0.1 (from matplotlib)\n",
      "  Downloading contourpy-1.3.3-cp313-cp313-macosx_11_0_arm64.whl.metadata (5.5 kB)\n",
      "Collecting cycler>=0.10 (from matplotlib)\n",
      "  Downloading cycler-0.12.1-py3-none-any.whl.metadata (3.8 kB)\n",
      "Collecting fonttools>=4.22.0 (from matplotlib)\n",
      "  Downloading fonttools-4.59.2-cp313-cp313-macosx_10_13_universal2.whl.metadata (109 kB)\n",
      "Collecting kiwisolver>=1.3.1 (from matplotlib)\n",
      "  Downloading kiwisolver-1.4.9-cp313-cp313-macosx_11_0_arm64.whl.metadata (6.3 kB)\n",
      "Requirement already satisfied: numpy>=1.23 in ./.venv/lib/python3.13/site-packages (from matplotlib) (2.3.2)\n",
      "Requirement already satisfied: packaging>=20.0 in ./.venv/lib/python3.13/site-packages (from matplotlib) (25.0)\n",
      "Collecting pillow>=8 (from matplotlib)\n",
      "  Downloading pillow-11.3.0-cp313-cp313-macosx_11_0_arm64.whl.metadata (9.0 kB)\n",
      "Collecting pyparsing>=2.3.1 (from matplotlib)\n",
      "  Downloading pyparsing-3.2.3-py3-none-any.whl.metadata (5.0 kB)\n",
      "Requirement already satisfied: python-dateutil>=2.7 in ./.venv/lib/python3.13/site-packages (from matplotlib) (2.9.0.post0)\n",
      "Requirement already satisfied: six>=1.5 in ./.venv/lib/python3.13/site-packages (from python-dateutil>=2.7->matplotlib) (1.17.0)\n",
      "Downloading matplotlib-3.10.6-cp313-cp313-macosx_11_0_arm64.whl (8.1 MB)\n",
      "\u001b[2K   \u001b[90m━━━━━━━━━━━━━━━━━━━━━━━━━━━━━━━━━━━━━━━━\u001b[0m \u001b[32m8.1/8.1 MB\u001b[0m \u001b[31m53.1 MB/s\u001b[0m eta \u001b[36m0:00:00\u001b[0m\n",
      "\u001b[?25hDownloading contourpy-1.3.3-cp313-cp313-macosx_11_0_arm64.whl (274 kB)\n",
      "Downloading cycler-0.12.1-py3-none-any.whl (8.3 kB)\n",
      "Downloading fonttools-4.59.2-cp313-cp313-macosx_10_13_universal2.whl (2.8 MB)\n",
      "\u001b[2K   \u001b[90m━━━━━━━━━━━━━━━━━━━━━━━━━━━━━━━━━━━━━━━━\u001b[0m \u001b[32m2.8/2.8 MB\u001b[0m \u001b[31m65.8 MB/s\u001b[0m eta \u001b[36m0:00:00\u001b[0m\n",
      "\u001b[?25hDownloading kiwisolver-1.4.9-cp313-cp313-macosx_11_0_arm64.whl (64 kB)\n",
      "Downloading pillow-11.3.0-cp313-cp313-macosx_11_0_arm64.whl (4.7 MB)\n",
      "\u001b[2K   \u001b[90m━━━━━━━━━━━━━━━━━━━━━━━━━━━━━━━━━━━━━━━━\u001b[0m \u001b[32m4.7/4.7 MB\u001b[0m \u001b[31m48.9 MB/s\u001b[0m eta \u001b[36m0:00:00\u001b[0m\n",
      "\u001b[?25hDownloading pyparsing-3.2.3-py3-none-any.whl (111 kB)\n",
      "Installing collected packages: pyparsing, pillow, kiwisolver, fonttools, cycler, contourpy, matplotlib\n",
      "Successfully installed contourpy-1.3.3 cycler-0.12.1 fonttools-4.59.2 kiwisolver-1.4.9 matplotlib-3.10.6 pillow-11.3.0 pyparsing-3.2.3\n",
      "\n",
      "\u001b[1m[\u001b[0m\u001b[34;49mnotice\u001b[0m\u001b[1;39;49m]\u001b[0m\u001b[39;49m A new release of pip is available: \u001b[0m\u001b[31;49m24.3.1\u001b[0m\u001b[39;49m -> \u001b[0m\u001b[32;49m25.2\u001b[0m\n",
      "\u001b[1m[\u001b[0m\u001b[34;49mnotice\u001b[0m\u001b[1;39;49m]\u001b[0m\u001b[39;49m To update, run: \u001b[0m\u001b[32;49mpip install --upgrade pip\u001b[0m\n"
     ]
    }
   ],
   "source": [
    "!pip install matplotlib"
   ]
  },
  {
   "cell_type": "markdown",
   "id": "0c18f4b0",
   "metadata": {},
   "source": [
    "4. Clean the Age variable and make a histogram of the ages of the victims."
   ]
  },
  {
   "cell_type": "code",
   "execution_count": 46,
   "id": "d3c77b51",
   "metadata": {},
   "outputs": [
    {
     "data": {
      "text/plain": [
       "<Axes: >"
      ]
     },
     "execution_count": 46,
     "metadata": {},
     "output_type": "execute_result"
    },
    {
     "data": {
      "image/png": "[encoded data removed]",
      "text/plain": [
       "<Figure size 640x480 with 1 Axes>"
      ]
     },
     "metadata": {},
     "output_type": "display_data"
    }
   ],
   "source": [
    "# Converting the Age to numeric and coercing the errors to NaN\n",
    "df['Age'] = pd.to_numeric(df['Age'], errors='coerce')\n",
    "\n",
    "# Creating a histogram of ages\n",
    "df['Age'].hist(bins=20)"
   ]
  },
  {
   "cell_type": "markdown",
   "id": "64c78587",
   "metadata": {},
   "source": [
    "5. What proportion of victims are male?"
   ]
  },
  {
   "cell_type": "code",
   "execution_count": 47,
   "id": "30981c13",
   "metadata": {},
   "outputs": [
    {
     "name": "stdout",
     "output_type": "stream",
     "text": [
      "Proportion of male victims: 0.80\n"
     ]
    }
   ],
   "source": [
    "# Calculating proportion victims that are male\n",
    "male_proportion = (df['Sex'] == 'M').mean()\n",
    "\n",
    "print(f\"Proportion of male victims: {male_proportion:.2f}\")"
   ]
  },
  {
   "cell_type": "markdown",
   "id": "1cbe1317",
   "metadata": {},
   "source": [
    "6. Clean the `Type` variable so it only takes three values: Provoked and Unprovoked and Unknown. What proportion of attacks are unprovoked?"
   ]
  },
  {
   "cell_type": "code",
   "execution_count": 49,
   "id": "870df54b",
   "metadata": {},
   "outputs": [
    {
     "name": "stdout",
     "output_type": "stream",
     "text": [
      "['Provoked' 'Unprovoked' 'Unknown']\n",
      "Proportion of the unprovoked attacks: 0.74\n"
     ]
    }
   ],
   "source": [
    "# Cleaning the Type variable column\n",
    "df['Type'] = df['Type'].apply(lambda x: 'Provoked' if str(x).strip().lower() == 'provoked' else\n",
    "                                        'Unprovoked' if str(x).strip().lower() == 'unprovoked' else\n",
    "                                        'Unknown')\n",
    "\n",
    "print(df['Type'].unique())\n",
    "\n",
    "# Calculating the proportion of unprovoked attacks\n",
    "unprovoked_proportion = (df['Type'] == 'Unprovoked').mean()\n",
    "print(f\"Proportion of the unprovoked attacks: {unprovoked_proportion:.2f}\")"
   ]
  },
  {
   "cell_type": "markdown",
   "id": "b3f31c6a",
   "metadata": {},
   "source": [
    "7. Clean the `Fatal Y/N` variable so it only takes three values: Y, N, and Unknown."
   ]
  },
  {
   "cell_type": "code",
   "execution_count": 50,
   "id": "a7e505dc",
   "metadata": {},
   "outputs": [
    {
     "name": "stdout",
     "output_type": "stream",
     "text": [
      "['N' 'Y' 'Unknown']\n"
     ]
    }
   ],
   "source": [
    "# Cleaning the Fatal (Y/N) column\n",
    "df['Fatal Y/N'] = df['Fatal Y/N'].apply(lambda x: 'Y' if str(x).upper().startswith('Y') else\n",
    "                                                      'N' if str(x).upper().startswith('N') else\n",
    "                                                      'Unknown')\n",
    "# Checking the unique values\n",
    "print(df['Fatal Y/N'].unique())"
   ]
  },
  {
   "cell_type": "markdown",
   "id": "4fc5edfd",
   "metadata": {},
   "source": [
    "8. Are sharks more likely to launch unprovoked attacks on men or women? Is the attack more or less likely to be fatal when the attack is provoked or unprovoked? Is it more or less likely to be fatal when the victim is male or female? How do you feel about sharks?"
   ]
  },
  {
   "cell_type": "code",
   "execution_count": null,
   "id": "6b4c5bd8",
   "metadata": {},
   "outputs": [
    {
     "name": "stdout",
     "output_type": "stream",
     "text": [
      "Proportion of unprovoked attacks by gender:\n",
      "Sex\n",
      "Male      0.836059\n",
      "Female    0.131422\n",
      "Other     0.032519\n",
      "Name: proportion, dtype: float64\n",
      "\n",
      "Fatality rates by the attack type:\n",
      "Fatal Y/N          N   Unknown         Y\n",
      "Type                                    \n",
      "Provoked    0.956318  0.010920  0.032761\n",
      "Unknown     0.821429  0.011628  0.166944\n",
      "Unprovoked  0.744660  0.012700  0.242640\n",
      "\n",
      "Fatality rates by sex:\n",
      "Fatal Y/N         N   Unknown         Y\n",
      "Sex                                    \n",
      "Female     0.842432  0.006203  0.151365\n",
      "Male       0.769639  0.009023  0.221338\n",
      "Other      0.758562  0.053082  0.188356\n"
     ]
    }
   ],
   "source": [
    "# Cleaning the Sex column\n",
    "df['Sex'] = df['Sex'].apply(lambda x: 'Male' if str(x).strip().upper() == 'M' else\n",
    "                                       'Female' if str(x).strip().upper() == 'F' else\n",
    "                                       'Other')\n",
    "# Unprovoked attacks by sex\n",
    "unprovoked_by_gender = df[df['Type'] == 'Unprovoked']['Sex'].value_counts(normalize=True)\n",
    "print(\"Proportion of unprovoked attacks by gender:\")\n",
    "print(unprovoked_by_gender)\n",
    "\n",
    "# Fatality rates by sex and the attack type\n",
    "fatality_by_type = df.groupby('Type')['Fatal Y/N'].value_counts(normalize=True).unstack()\n",
    "fatality_by_gender = df.groupby('Sex')['Fatal Y/N'].value_counts(normalize=True).unstack()\n",
    "\n",
    "print(\"\\nFatality rates by sex:\")\n",
    "print(fatality_by_gender)\n",
    "\n",
    "print(\"\\nFatality rates by the attack type:\")\n",
    "print(fatality_by_type)"
   ]
  },
  {
   "cell_type": "markdown",
   "id": "313eadb3",
   "metadata": {},
   "source": [
    "According to the data, it shows that unprovoked men have a higher chance of getting attacked than an unprovoked woman. In the case that the attack is provoked, it seems like it would be more fatal. When the victim is male, it seems more likely to be fatal. I feel more scared of sharks now."
   ]
  },
  {
   "cell_type": "markdown",
   "id": "a5d16648",
   "metadata": {},
   "source": [
    "9. What proportion of attacks appear to be by white sharks? (Hint: `str.split()` makes a vector of text values into a list of lists, split by spaces.)"
   ]
  },
  {
   "cell_type": "code",
   "execution_count": 52,
   "id": "a3f03830",
   "metadata": {},
   "outputs": [
    {
     "name": "stdout",
     "output_type": "stream",
     "text": [
      "Proportion of attacks by white sharks: 0.19\n"
     ]
    }
   ],
   "source": [
    "# Cleaning the Species column\n",
    "df['Species'] = df['Species '].str.lower()\n",
    "\n",
    "# Counting the attacks by white sharks\n",
    "white_shark_attacks = df['Species'].str.contains('white').sum()\n",
    "\n",
    "# Counting the total attacks with the species information\n",
    "total_attacks_with_species = df['Species'].notna().sum()\n",
    "\n",
    "# Calculating the proportion\n",
    "proportion = white_shark_attacks / total_attacks_with_species\n",
    "\n",
    "print(f\"Proportion of attacks by white sharks: {proportion:.2f}\")"
   ]
  }
 ],
 "metadata": {
  "colab": {
   "provenance": []
  },
  "kernelspec": {
   "display_name": ".venv (3.13.1)",
   "language": "python",
   "name": "python3"
  },
  "language_info": {
   "codemirror_mode": {
    "name": "ipython",
    "version": 3
   },
   "file_extension": ".py",
   "mimetype": "text/x-python",
   "name": "python",
   "nbconvert_exporter": "python",
   "pygments_lexer": "ipython3",
   "version": "3.13.1"
  }
 },
 "nbformat": 4,
 "nbformat_minor": 5
}
